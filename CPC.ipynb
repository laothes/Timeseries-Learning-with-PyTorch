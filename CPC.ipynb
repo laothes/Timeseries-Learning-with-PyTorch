{
 "cells": [
  {
   "cell_type": "code",
   "execution_count": 1,
   "id": "bd5493a1",
   "metadata": {},
   "outputs": [],
   "source": [
    "import torch\n",
    "from train.cpcPreTrain import pre_training\n",
    "from train.cpcFineTune import fine_tuning"
   ]
  },
  {
   "cell_type": "markdown",
   "id": "d4a275e7",
   "metadata": {},
   "source": [
    "# Har"
   ]
  },
  {
   "cell_type": "markdown",
   "id": "137cc63e",
   "metadata": {},
   "source": [
    "## Pre train"
   ]
  },
  {
   "cell_type": "code",
   "execution_count": null,
   "id": "bf774100",
   "metadata": {},
   "outputs": [
    {
     "name": "stdout",
     "output_type": "stream",
     "text": [
      "### Model summary below###\n",
      " CPC(\n",
      "  (encoder): Sequential(\n",
      "    (0): Conv1d(9, 16, kernel_size=(3,), stride=(1,), padding=(1,), bias=False)\n",
      "    (1): BatchNorm1d(16, eps=1e-05, momentum=0.1, affine=True, track_running_stats=True)\n",
      "    (2): ReLU(inplace=True)\n",
      "    (3): Conv1d(16, 16, kernel_size=(3,), stride=(1,), padding=(1,), bias=False)\n",
      "    (4): BatchNorm1d(16, eps=1e-05, momentum=0.1, affine=True, track_running_stats=True)\n",
      "    (5): ReLU(inplace=True)\n",
      "  )\n",
      "  (gru): GRU(16, 8, batch_first=True)\n",
      "  (Wk): ModuleList(\n",
      "    (0-63): 64 x Linear(in_features=8, out_features=16, bias=False)\n",
      "  )\n",
      "  (softmax): Softmax(dim=-1)\n",
      "  (lsoftmax): LogSoftmax(dim=-1)\n",
      ")\n",
      "\n",
      "===> Model total parameter: 10080\n",
      "\n",
      "Train Epoch: 1 [0/5881 (0%)]\tlr:0.00000\tAccuracy: 0.0039\tLoss: 5.639201\n",
      "Train Epoch: 1 [2560/5881 (43%)]\tlr:0.00003\tAccuracy: 0.0039\tLoss: 5.629795\n",
      "Train Epoch: 1 [5120/5881 (87%)]\tlr:0.00006\tAccuracy: 0.0000\tLoss: 5.610022\n",
      "===> Validation set: Average loss: 5.5102\tAccuracy: 0.0034\n",
      "\n",
      "#### End epoch 1/100, elapsed time: 4.1398349000373855\n",
      "Train Epoch: 2 [0/5881 (0%)]\tlr:0.00007\tAccuracy: 0.0078\tLoss: 5.615608\n",
      "Train Epoch: 2 [2560/5881 (43%)]\tlr:0.00010\tAccuracy: 0.0039\tLoss: 5.610315\n",
      "Train Epoch: 2 [5120/5881 (87%)]\tlr:0.00012\tAccuracy: 0.0078\tLoss: 5.589643\n",
      "===> Validation set: Average loss: 5.5269\tAccuracy: 0.0027\n",
      "\n",
      "#### End epoch 2/100, elapsed time: 4.17637390003074\n",
      "Train Epoch: 3 [0/5881 (0%)]\tlr:0.00013\tAccuracy: 0.0000\tLoss: 5.598542\n",
      "Train Epoch: 3 [2560/5881 (43%)]\tlr:0.00016\tAccuracy: 0.0039\tLoss: 5.572997\n",
      "Train Epoch: 3 [5120/5881 (87%)]\tlr:0.00019\tAccuracy: 0.0078\tLoss: 5.564166\n",
      "===> Validation set: Average loss: 5.5216\tAccuracy: 0.0041\n",
      "\n",
      "#### End epoch 3/100, elapsed time: 4.163970099994913\n",
      "Train Epoch: 4 [0/5881 (0%)]\tlr:0.00020\tAccuracy: 0.0078\tLoss: 5.562459\n",
      "Train Epoch: 4 [2560/5881 (43%)]\tlr:0.00022\tAccuracy: 0.0000\tLoss: 5.541482\n",
      "Train Epoch: 4 [5120/5881 (87%)]\tlr:0.00025\tAccuracy: 0.0039\tLoss: 5.535090\n",
      "===> Validation set: Average loss: 5.4859\tAccuracy: 0.0041\n",
      "\n",
      "#### End epoch 4/100, elapsed time: 4.285612100036815\n",
      "Train Epoch: 5 [0/5881 (0%)]\tlr:0.00026\tAccuracy: 0.0039\tLoss: 5.518890\n",
      "Train Epoch: 5 [2560/5881 (43%)]\tlr:0.00029\tAccuracy: 0.0000\tLoss: 5.501556\n",
      "Train Epoch: 5 [5120/5881 (87%)]\tlr:0.00032\tAccuracy: 0.0039\tLoss: 5.476607\n",
      "===> Validation set: Average loss: 5.4285\tAccuracy: 0.0034\n",
      "\n",
      "#### End epoch 5/100, elapsed time: 4.140851499978453\n",
      "Train Epoch: 6 [0/5881 (0%)]\tlr:0.00032\tAccuracy: 0.0156\tLoss: 5.462294\n",
      "Train Epoch: 6 [2560/5881 (43%)]\tlr:0.00035\tAccuracy: 0.0117\tLoss: 5.430313\n",
      "Train Epoch: 6 [5120/5881 (87%)]\tlr:0.00038\tAccuracy: 0.0078\tLoss: 5.403053\n",
      "===> Validation set: Average loss: 5.3361\tAccuracy: 0.0109\n",
      "\n",
      "#### End epoch 6/100, elapsed time: 3.9650276000611484\n",
      "Train Epoch: 7 [0/5881 (0%)]\tlr:0.00039\tAccuracy: 0.0117\tLoss: 5.371592\n",
      "Train Epoch: 7 [2560/5881 (43%)]\tlr:0.00042\tAccuracy: 0.0117\tLoss: 5.342479\n",
      "Train Epoch: 7 [5120/5881 (87%)]\tlr:0.00044\tAccuracy: 0.0156\tLoss: 5.287023\n"
     ]
    }
   ],
   "source": [
    "train = torch.load('data/Har/train.pt', weights_only=True)['samples'].float()\n",
    "val = torch.load('data/Har/val.pt', weights_only=True)['samples'].float()\n",
    "pre_training(train, val,\n",
    "            channels=9,\n",
    "            n_warmup_steps = 1000,\n",
    "            epochs = 100,\n",
    "            batch_size = 256,\n",
    "            name = 'Har'\n",
    "    )"
   ]
  },
  {
   "cell_type": "markdown",
   "id": "3bf6cd21",
   "metadata": {},
   "source": [
    "## Fine Tune"
   ]
  },
  {
   "cell_type": "code",
   "execution_count": null,
   "id": "0cd348f0",
   "metadata": {},
   "outputs": [],
   "source": [
    "train = torch.load('./data/Har/train.pt', weights_only=True)\n",
    "val = torch.load('./data/Har/val.pt', weights_only=True)\n",
    "fine_tuning(train, val,\n",
    "            channels=9,\n",
    "            spk_num=6,\n",
    "            n_warmup_steps=1000,\n",
    "            batch_size=256,\n",
    "            epochs=100,\n",
    "            PreTrainModel='Har',\n",
    "            name='Har-C')"
   ]
  },
  {
   "cell_type": "markdown",
   "id": "30a3b08c",
   "metadata": {},
   "source": [
    "# Epilepsy"
   ]
  },
  {
   "cell_type": "markdown",
   "id": "674e26c8",
   "metadata": {},
   "source": [
    "## Pre train"
   ]
  },
  {
   "cell_type": "code",
   "execution_count": null,
   "id": "51c33db7",
   "metadata": {},
   "outputs": [],
   "source": [
    "train = torch.load('data/Epilepsy/train.pt', weights_only=True)['samples'].float()\n",
    "val = torch.load('data/Epilepsy/val.pt', weights_only=True)['samples'].float()\n",
    "pre_training(train, val,\n",
    "            channels=1,\n",
    "            n_warmup_steps = 1000,\n",
    "            epochs = 100,\n",
    "            batch_size = 256,\n",
    "            name = 'Epilepsy'\n",
    "    )"
   ]
  },
  {
   "cell_type": "markdown",
   "id": "37838fd5",
   "metadata": {},
   "source": [
    "## Fine Tune"
   ]
  },
  {
   "cell_type": "code",
   "execution_count": null,
   "id": "6e496dbd",
   "metadata": {},
   "outputs": [],
   "source": [
    "train = torch.load('./data/Epilepsy/train.pt', weights_only=True)\n",
    "val = torch.load('./data/Epilepsy/val.pt', weights_only=True)\n",
    "fine_tuning(train, val,\n",
    "            channels=1,\n",
    "            spk_num=2,\n",
    "            n_warmup_steps=1000,\n",
    "            batch_size=256,\n",
    "            epochs=100,\n",
    "            PreTrainModel='Epilepsy',\n",
    "            name='Epilepsy-C')"
   ]
  },
  {
   "cell_type": "code",
   "execution_count": null,
   "id": "da6216cd",
   "metadata": {},
   "outputs": [],
   "source": []
  },
  {
   "cell_type": "code",
   "execution_count": null,
   "id": "2c3cb1b2",
   "metadata": {},
   "outputs": [],
   "source": []
  }
 ],
 "metadata": {
  "kernelspec": {
   "display_name": "Python 3 (ipykernel)",
   "language": "python",
   "name": "python3"
  },
  "language_info": {
   "codemirror_mode": {
    "name": "ipython",
    "version": 3
   },
   "file_extension": ".py",
   "mimetype": "text/x-python",
   "name": "python",
   "nbconvert_exporter": "python",
   "pygments_lexer": "ipython3",
   "version": "3.10.13"
  },
  "toc": {
   "base_numbering": 1,
   "nav_menu": {},
   "number_sections": true,
   "sideBar": true,
   "skip_h1_title": false,
   "title_cell": "Table of Contents",
   "title_sidebar": "Contents",
   "toc_cell": false,
   "toc_position": {
    "height": "calc(100% - 180px)",
    "left": "10px",
    "top": "150px",
    "width": "254.448px"
   },
   "toc_section_display": true,
   "toc_window_display": true
  }
 },
 "nbformat": 4,
 "nbformat_minor": 5
}
